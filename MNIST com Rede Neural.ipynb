{
 "cells": [
  {
   "cell_type": "markdown",
   "metadata": {
    "collapsed": false
   },
   "source": [
    "## MNIST com Rede Neural\n",
    "\n",
    "<a href=\"http://yann.lecun.com/exdb/mnist\">MNIST</a>, considerado o Hello World de redes neurais, é uma base de dados aberta que contém imagens pré-processadas de dígitos escritos à mão.\n",
    "\n",
    "Entre outros, o MNIST foi criado por Yann Lecun, um dos mais influentes pesquisadores de Deep Learning. Essas bases de dados abertas são consideradas um dos motivos para o avanço da pesquisa na área. Outras bases de dados abertas são <a href=\"http://www.image-net.org\">ImageNet</a> e <a href=\"http://www.speech.cs.cmu.edu/databases/an4\">AN4</a>, para reconhecimento de fala.\n",
    "\n",
    "Para criar a nossa rede neural, nós utilizaremos o <a href=\"https://github.com/tensorflow/tensorflow/tree/master/tensorflow/contrib/learn/python/learn\">TFLearn</a> (antigo Scikit-Flow), que provê uma interface simplificada em cima do <a href=\"https://www.tensorflow.org\">TensorFlow</a>.\n",
    "\n",
    "Vamos começar baixando o MNIST pelo TFLearn:"
   ]
  },
  {
   "cell_type": "code",
   "execution_count": null,
   "metadata": {
    "collapsed": false
   },
   "outputs": [],
   "source": [
    "from tensorflow.contrib import learn\n",
    "mnist = learn.datasets.load_dataset('mnist')\n",
    "\n",
    "# Necessária conversão de uint8 para int32 no TensorFlow v0.9:\n",
    "import numpy as np\n",
    "train_labels = np.array(mnist.train.labels, dtype='int32')\n",
    "test_labels = np.array(mnist.test.labels, dtype='int32')"
   ]
  },
  {
   "cell_type": "markdown",
   "metadata": {},
   "source": [
    "Vamos agora fazer uma breve análise dos dados.\n",
    "\n",
    "Como se pode ver, o MNIST contém imagens preto e branco de 28x28 pixels, separadas entre bases de treino, de validação e de teste.\n",
    "\n",
    "Nós treinamos o nosso modelo utilizando a base de treino, utilizamos a base de validação para ajustar os parâmetros do modelo e realizamos as predições na base de teste. Isso é necessário para que a análise de desempenho do modelo seja feita com exemplos ainda não conhecidos. Como nós não ajustaremos os parâmetros do modelo, utilizaremos aqui apenas as bases de treino e de teste."
   ]
  },
  {
   "cell_type": "code",
   "execution_count": null,
   "metadata": {
    "collapsed": false
   },
   "outputs": [],
   "source": [
    "%matplotlib inline\n",
    "import matplotlib.pyplot as plt\n",
    "from random import randint\n",
    "\n",
    "indice = randint(0, len(test_labels - 1))\n",
    "\n",
    "imagens = np.reshape(mnist.test.images, (len(test_labels), 28, 28))\n",
    "plt.axis('off')\n",
    "plt.imshow(imagens[indice], cmap='gray')\n",
    "\n",
    "print('Exemplos para treino: %d' % len(train_labels))\n",
    "print('Exemplos para teste: %d' % len(test_labels))"
   ]
  },
  {
   "cell_type": "markdown",
   "metadata": {},
   "source": [
    "Com os nossos dados em mãos, vamos utilizar o TFLearn para definir a arquitetura da rede neural, que conterá 784 unidades na camada de entrada, representando os 28 * 28 pixels, 1 camada escondida de 25 unidades e 10 unidades na camada de saída, representando os dígitos de 0 a 9.\n",
    "\n",
    "Por ter apenas uma camada escondida, essa é considerada uma rede rasa (e não profunda).\n",
    "\n",
    "<img src=\"neural_net2.jpeg\" style=\"width:519px;height:255px;\">\n",
    "\n",
    "A camada de entrada será setada automaticamente ao se invocar o método `fit()`."
   ]
  },
  {
   "cell_type": "code",
   "execution_count": null,
   "metadata": {
    "collapsed": false
   },
   "outputs": [],
   "source": [
    "rede = learn.DNNClassifier(hidden_units=[25], n_classes=10)\n",
    "print('Rede neural criada.')"
   ]
  },
  {
   "cell_type": "markdown",
   "metadata": {},
   "source": [
    "Aqui, é necessário especificar quantas iterações o algoritmo de otimização deve rodar, já que o default é infinito :)\n",
    "Para um bom treinamento deste modelo, sugerimos algo em torno de 1400 steps (pode demorar).\n",
    "\n",
    "Antes de se treinar a rede neural, setamos o logger, que nos indicará o progresso do treinamento."
   ]
  },
  {
   "cell_type": "code",
   "execution_count": null,
   "metadata": {
    "collapsed": false
   },
   "outputs": [],
   "source": [
    "import logging\n",
    "logging.getLogger().setLevel(logging.INFO)\n",
    "\n",
    "#rede.fit(mnist.train.images, train_labels, steps=1400)\n",
    "rede.fit(mnist.train.images, train_labels, steps=140)\n",
    "\n",
    "logging.getLogger().setLevel(logging.WARN)"
   ]
  },
  {
   "cell_type": "markdown",
   "metadata": {},
   "source": [
    "Com o modelo treinado, vamos realizar algumas predições:"
   ]
  },
  {
   "cell_type": "code",
   "execution_count": null,
   "metadata": {
    "collapsed": false
   },
   "outputs": [],
   "source": [
    "indice = randint(0, len(test_labels - 1))\n",
    "plt.axis('off')\n",
    "plt.imshow(imagens[indice], cmap='gray')\n",
    "\n",
    "print('Predição: %d' % rede.predict(mnist.test.images[indice]))\n",
    "print('Label: %d' % test_labels[indice])"
   ]
  },
  {
   "cell_type": "markdown",
   "metadata": {},
   "source": [
    "Para calcular a acurácia das predições, utilizamos novamente a biblioteca <a href=\"http://scikit-learn.org/\">scikit-learn</a>. Aqui, ela compara os valores das predições com os valores reais:"
   ]
  },
  {
   "cell_type": "code",
   "execution_count": null,
   "metadata": {
    "collapsed": false
   },
   "outputs": [],
   "source": [
    "from sklearn import metrics\n",
    "\n",
    "predicoes = rede.predict(mnist.test.images)\n",
    "acuracia = metrics.accuracy_score(test_labels, predicoes)\n",
    "print('Acurácia: {0:.2f}%'.format(acuracia * 100))"
   ]
  }
 ],
 "metadata": {
  "kernelspec": {
   "display_name": "Python 3",
   "language": "python",
   "name": "python3"
  },
  "language_info": {
   "codemirror_mode": {
    "name": "ipython",
    "version": 3
   },
   "file_extension": ".py",
   "mimetype": "text/x-python",
   "name": "python",
   "nbconvert_exporter": "python",
   "pygments_lexer": "ipython3",
   "version": "3.5.2"
  }
 },
 "nbformat": 4,
 "nbformat_minor": 0
}
