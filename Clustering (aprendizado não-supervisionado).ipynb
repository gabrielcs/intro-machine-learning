{
 "cells": [
  {
   "cell_type": "markdown",
   "metadata": {
    "collapsed": false
   },
   "source": [
    "## Clustering (aprendizado não-supervisionado)\n",
    "\n",
    "Nesse exemplo, vamos utilizar um algoritmo de aprendizado não-supervisionado para clusterizar dados.\n",
    "\n",
    "Vale ressaltar que se trata de aprendizado não-supervisionado porque os dados não contêm informação sobre qual é a real classificação de nenhum dos pontos.\n",
    "\n",
    "Como de costume, vamos começar importando e visualizando os dados:"
   ]
  },
  {
   "cell_type": "code",
   "execution_count": null,
   "metadata": {
    "collapsed": false
   },
   "outputs": [],
   "source": [
    "%matplotlib inline\n",
    "import numpy as np\n",
    "import matplotlib.pyplot as plt\n",
    "\n",
    "dados = np.genfromtxt('kmeans.csv', delimiter=',')\n",
    "x = dados[:,0].reshape(-1, 1)\n",
    "y = dados[:,1]\n",
    "\n",
    "plt.scatter(x, y)\n",
    "plt.show()"
   ]
  },
  {
   "cell_type": "markdown",
   "metadata": {},
   "source": [
    "Para treinar o nosso modelo preditivo, utilizaremos o algoritmo <a href=\"http://scikit-learn.org/stable/modules/generated/sklearn.cluster.KMeans.html\">K-means</a>, que recebe como parâmetro opcional a quantidade de classes (ou <i>clusters</i>) para classificação. Obs.: a quantidade de clusters padrão é 8.\n",
    "\n",
    "Com o modelo treinado, podemos fazer a classificação de cada ponto:"
   ]
  },
  {
   "cell_type": "code",
   "execution_count": null,
   "metadata": {
    "collapsed": false,
    "scrolled": true
   },
   "outputs": [],
   "source": [
    "from sklearn.cluster import KMeans\n",
    "\n",
    "#kmeans = KMeans()\n",
    "kmeans = KMeans(3)\n",
    "kmeans.fit(dados)\n",
    "\n",
    "pred = kmeans.predict(dados)\n",
    "print(pred)"
   ]
  },
  {
   "cell_type": "markdown",
   "metadata": {},
   "source": [
    "E visualizando:"
   ]
  },
  {
   "cell_type": "code",
   "execution_count": null,
   "metadata": {
    "collapsed": false
   },
   "outputs": [],
   "source": [
    "cores = []\n",
    "for p in pred :\n",
    "    if p == 0 :\n",
    "        cores.append('darkcyan')\n",
    "    elif p == 1 :\n",
    "        cores.append('darkorange')\n",
    "    elif p == 2 :\n",
    "        cores.append('mediumpurple')\n",
    "    else :\n",
    "        cores.append('black')\n",
    "\n",
    "plt.scatter(x, y, color = cores)\n",
    "plt.show()"
   ]
  },
  {
   "cell_type": "markdown",
   "metadata": {},
   "source": [
    "O algoritmo K-means consiste de centroides que se movem a cada iteração de forma a tentar achar os principais centros geométricos. Veja onde cada centroide ficou posicionado para esse conjunto de dados e o número de clusters = 3:"
   ]
  },
  {
   "cell_type": "code",
   "execution_count": null,
   "metadata": {
    "collapsed": false
   },
   "outputs": [],
   "source": [
    "centroids = kmeans.cluster_centers_\n",
    "print(centroids)\n",
    "\n",
    "plt.scatter(centroids[:, 0], centroids[:, 1], marker='x', color='black', s=120, linewidths=5, zorder=10)\n",
    "plt.scatter(x, y, color = cores)\n",
    "plt.show()"
   ]
  }
 ],
 "metadata": {
  "anaconda-cloud": {},
  "kernelspec": {
   "display_name": "Python 3",
   "language": "python",
   "name": "python3"
  },
  "language_info": {
   "codemirror_mode": {
    "name": "ipython",
    "version": 3
   },
   "file_extension": ".py",
   "mimetype": "text/x-python",
   "name": "python",
   "nbconvert_exporter": "python",
   "pygments_lexer": "ipython3",
   "version": "3.5.2"
  }
 },
 "nbformat": 4,
 "nbformat_minor": 0
}
