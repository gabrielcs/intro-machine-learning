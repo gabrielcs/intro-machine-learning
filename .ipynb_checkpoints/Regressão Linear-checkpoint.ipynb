{
 "cells": [
  {
   "cell_type": "markdown",
   "metadata": {
    "collapsed": false
   },
   "source": [
    "## Regressão Linear\n",
    "\n",
    "O <a href=\"http://jupyter.org\">Jupyter</a> é ótimo para se documentar o trabalho realizado, permitindo que se coloque textos e gráficos juntos ao código executável.\n",
    "\n",
    "Nesse exemplo, vamos realizar <b>predições</b> do <u>lucro anual</u> de um food truck com base no tamanho da <u>população</u> da cidade.\n",
    "\n",
    "Vamos começar importando os dados. Aqui, nós utilizamos a biblioteca <a href=\"http://www.numpy.org\">NumPy</a> para se trabalhar com vetores e matrizes no estilo R / Matlab:"
   ]
  },
  {
   "cell_type": "code",
   "execution_count": null,
   "metadata": {
    "collapsed": false
   },
   "outputs": [],
   "source": [
    "import numpy as np\n",
    "\n",
    "data = np.genfromtxt('food_trucks.csv', delimiter=',')\n",
    "#print('Data %s:\\n%s' % (data.shape, data))\n",
    "\n",
    "populacao = data[:,0].reshape(-1, 1)\n",
    "lucro = data[:,1]\n",
    "#print('População %s:\\n%s\\n' % (populacao.shape, populacao))\n",
    "#print('Lucro %s:\\n%s' % (lucro.shape, lucro))"
   ]
  },
  {
   "cell_type": "markdown",
   "metadata": {},
   "source": [
    "A seguir, vamos visualizar os dados.\n",
    "\n",
    "Para se plotar gráficos, nós utilizamos uma outra ferramenta essencial para Machine Learning, a biblioteca <a href=\"http://matplotlib.org\">matplotlib</a>:"
   ]
  },
  {
   "cell_type": "code",
   "execution_count": null,
   "metadata": {
    "collapsed": false
   },
   "outputs": [],
   "source": [
    "%matplotlib inline\n",
    "import matplotlib.pyplot as plt\n",
    "\n",
    "plt.scatter(populacao, lucro)\n",
    "plt.title('Food trucks')\n",
    "plt.xlabel('População (10k)')\n",
    "plt.ylabel('Lucro anual (R$ 10k)')\n",
    "plt.show()"
   ]
  },
  {
   "cell_type": "markdown",
   "metadata": {},
   "source": [
    "A seguir, vamos treinar o nosso modelo preditivo.\n",
    "\n",
    "A biblioteca <a href=\"http://scikit-learn.org\">scikit-learn</a> (<u>sklearn</u> para os íntimos) contém vários algoritmos de Machine Learning. Aqui nós utilizamos o de regressão linear.\n",
    "\n",
    "Em geral, cada algoritmo é representado por uma classe, contendo o método `fit()` para se treinar o modelo preditivo."
   ]
  },
  {
   "cell_type": "code",
   "execution_count": null,
   "metadata": {
    "collapsed": false
   },
   "outputs": [],
   "source": [
    "from sklearn import linear_model\n",
    "\n",
    "regr = linear_model.LinearRegression()\n",
    "regr.fit(populacao, lucro)\n",
    "\n",
    "plt.scatter(populacao, lucro)\n",
    "plt.plot(populacao, regr.predict(populacao))\n",
    "plt.show()"
   ]
  },
  {
   "cell_type": "markdown",
   "metadata": {},
   "source": [
    "Aós treinar o modelo preditivo, basta invocar o método `predict()` para se realizar predições:"
   ]
  },
  {
   "cell_type": "code",
   "execution_count": null,
   "metadata": {
    "collapsed": false
   },
   "outputs": [],
   "source": [
    "teste = 17\n",
    "predicao = regr.predict(teste)\n",
    "\n",
    "print('O lucro anual previsto para um food truck em uma cidade com %d habitantes é de R$%d.' \n",
    "      % (teste * 10000, predicao * 10000))"
   ]
  }
 ],
 "metadata": {
  "anaconda-cloud": {},
  "kernelspec": {
   "display_name": "Python 3",
   "language": "python",
   "name": "python3"
  },
  "language_info": {
   "codemirror_mode": {
    "name": "ipython",
    "version": 3
   },
   "file_extension": ".py",
   "mimetype": "text/x-python",
   "name": "python",
   "nbconvert_exporter": "python",
   "pygments_lexer": "ipython3",
   "version": "3.5.2"
  }
 },
 "nbformat": 4,
 "nbformat_minor": 0
}
